{
  "nbformat": 4,
  "nbformat_minor": 0,
  "metadata": {
    "colab": {
      "provenance": [],
      "authorship_tag": "ABX9TyNI07gnFH8iA6QA35OoziI7",
      "include_colab_link": true
    },
    "kernelspec": {
      "name": "python3",
      "display_name": "Python 3"
    },
    "language_info": {
      "name": "python"
    }
  },
  "cells": [
    {
      "cell_type": "markdown",
      "metadata": {
        "id": "view-in-github",
        "colab_type": "text"
      },
      "source": [
        "<a href=\"https://colab.research.google.com/github/tenoob/nlp-101/blob/main/%5Bstopword%2Cstemming%2Clemmatization%2Cbag_of_words%5D.ipynb\" target=\"_parent\"><img src=\"https://colab.research.google.com/assets/colab-badge.svg\" alt=\"Open In Colab\"/></a>"
      ]
    },
    {
      "cell_type": "code",
      "execution_count": 10,
      "metadata": {
        "id": "bTHoDy_fATk-"
      },
      "outputs": [],
      "source": [
        "paragraph = \"\"\"\n",
        " Yuuya Tenjou is hated by her parents and siblings because of her ugly appearance, and is even bullied by her delinquent classmates. He is completely isolated after the death of her only ally, her grandfather.\n",
        "\n",
        "One day, following his grandfather's will, he helps a girl who is being entangled in delinquents at a convenience store. That night, Yuya, who was in despair about her life, accidentally discovered a \"hidden door\" in her house. After opening the hidden door, she finds \"mysterious items\" and \"doors to other worlds\" that her grandfather had collected from all over the world.\n",
        "\n",
        "At the house beyond the door, Yuya acquires combat skills one after another , and when he defeats the monsters that attack him with the weapon \"Zesari\", his poor stats level up tremendously. Perhaps because of that, Yuya, who was attacked by severe pain while he was asleep, turned into a handsome man like a different person the next morning. As a person who visited another world for the first time, Yuya, who acquired cheat-class abilities, subjugated monsters one after another, repeatedly leveled up, and was reborn as a perfect boy with the strongest physical ability.!\n",
        "\n",
        "Yuya Tenjou was reborn as a perfect boy by opening the door to another world and acquiring cheat-class abilities. Yuya's \"unconscious cheat\", which goes back and forth between two worlds, is only gaining momentum...!? In addition to his strongest physical ability, Yuya's evolution in another world with supreme magic won't stop..\n",
        "\n",
        "After school the next day, I helped Kaori Hojo at a convenience store. Kaori Hojo appears by car and Yuya Tenjo is invited to transfer to Ousei Gakuen, an elite school. Yuya, who was half-forced to take her, met the students of Ousei Academy there, and after her trial admission, she decided to attend Ousei Academy. On the other hand, in another world, Rexia von Alcelia, the princess of Alcelia Kingdom, is about to be assassinated, and she is rescued by Yuya, who happens to be away. This made Lexia fall in love with Yuya at first sight, and she was desperate to find her Yuya.\n",
        "\"\"\""
      ]
    },
    {
      "cell_type": "code",
      "source": [
        "import nltk\n",
        "from nltk.stem import PorterStemmer\n",
        "from nltk.corpus  import stopwords\n",
        "from nltk.stem import WordNetLemmatizer"
      ],
      "metadata": {
        "id": "ymEjz5QfAWe6"
      },
      "execution_count": 15,
      "outputs": []
    },
    {
      "cell_type": "code",
      "source": [
        "#tokenization -> conver paragraphs to senten to words\n",
        "nltk.download('punkt')\n",
        "\n",
        "#convert paragraphs to sentences\n",
        "sentences = nltk.sent_tokenize(paragraph)\n",
        "print(sentences)"
      ],
      "metadata": {
        "colab": {
          "base_uri": "https://localhost:8080/"
        },
        "id": "cCYj-yy3Akae",
        "outputId": "3407bcc4-9479-4f7b-956b-5618d829b018"
      },
      "execution_count": 12,
      "outputs": [
        {
          "output_type": "stream",
          "name": "stdout",
          "text": [
            "['\\n Yuuya Tenjou is hated by her parents and siblings because of her ugly appearance, and is even bullied by her delinquent classmates.', 'He is completely isolated after the death of her only ally, her grandfather.', \"One day, following his grandfather's will, he helps a girl who is being entangled in delinquents at a convenience store.\", 'That night, Yuya, who was in despair about her life, accidentally discovered a \"hidden door\" in her house.', 'After opening the hidden door, she finds \"mysterious items\" and \"doors to other worlds\" that her grandfather had collected from all over the world.', 'At the house beyond the door, Yuya acquires combat skills one after another , and when he defeats the monsters that attack him with the weapon \"Zesari\", his poor stats level up tremendously.', 'Perhaps because of that, Yuya, who was attacked by severe pain while he was asleep, turned into a handsome man like a different person the next morning.', 'As a person who visited another world for the first time, Yuya, who acquired cheat-class abilities, subjugated monsters one after another, repeatedly leveled up, and was reborn as a perfect boy with the strongest physical ability.!', 'Yuya Tenjou was reborn as a perfect boy by opening the door to another world and acquiring cheat-class abilities.', 'Yuya\\'s \"unconscious cheat\", which goes back and forth between two worlds, is only gaining momentum...!?', \"In addition to his strongest physical ability, Yuya's evolution in another world with supreme magic won't stop..\\n\\nAfter school the next day, I helped Kaori Hojo at a convenience store.\", 'Kaori Hojo appears by car and Yuya Tenjo is invited to transfer to Ousei Gakuen, an elite school.', 'Yuya, who was half-forced to take her, met the students of Ousei Academy there, and after her trial admission, she decided to attend Ousei Academy.', 'On the other hand, in another world, Rexia von Alcelia, the princess of Alcelia Kingdom, is about to be assassinated, and she is rescued by Yuya, who happens to be away.', 'This made Lexia fall in love with Yuya at first sight, and she was desperate to find her Yuya.']\n"
          ]
        },
        {
          "output_type": "stream",
          "name": "stderr",
          "text": [
            "[nltk_data] Downloading package punkt to /root/nltk_data...\n",
            "[nltk_data]   Package punkt is already up-to-date!\n"
          ]
        }
      ]
    },
    {
      "cell_type": "code",
      "source": [
        "for sentence in sentences:\n",
        "    print(sentence)"
      ],
      "metadata": {
        "id": "SAPzJY-eBkRw",
        "outputId": "fdfb0238-618b-40b8-92e4-838643bf2049",
        "colab": {
          "base_uri": "https://localhost:8080/"
        }
      },
      "execution_count": 13,
      "outputs": [
        {
          "output_type": "stream",
          "name": "stdout",
          "text": [
            "\n",
            " Yuuya Tenjou is hated by her parents and siblings because of her ugly appearance, and is even bullied by her delinquent classmates.\n",
            "He is completely isolated after the death of her only ally, her grandfather.\n",
            "One day, following his grandfather's will, he helps a girl who is being entangled in delinquents at a convenience store.\n",
            "That night, Yuya, who was in despair about her life, accidentally discovered a \"hidden door\" in her house.\n",
            "After opening the hidden door, she finds \"mysterious items\" and \"doors to other worlds\" that her grandfather had collected from all over the world.\n",
            "At the house beyond the door, Yuya acquires combat skills one after another , and when he defeats the monsters that attack him with the weapon \"Zesari\", his poor stats level up tremendously.\n",
            "Perhaps because of that, Yuya, who was attacked by severe pain while he was asleep, turned into a handsome man like a different person the next morning.\n",
            "As a person who visited another world for the first time, Yuya, who acquired cheat-class abilities, subjugated monsters one after another, repeatedly leveled up, and was reborn as a perfect boy with the strongest physical ability.!\n",
            "Yuya Tenjou was reborn as a perfect boy by opening the door to another world and acquiring cheat-class abilities.\n",
            "Yuya's \"unconscious cheat\", which goes back and forth between two worlds, is only gaining momentum...!?\n",
            "In addition to his strongest physical ability, Yuya's evolution in another world with supreme magic won't stop..\n",
            "\n",
            "After school the next day, I helped Kaori Hojo at a convenience store.\n",
            "Kaori Hojo appears by car and Yuya Tenjo is invited to transfer to Ousei Gakuen, an elite school.\n",
            "Yuya, who was half-forced to take her, met the students of Ousei Academy there, and after her trial admission, she decided to attend Ousei Academy.\n",
            "On the other hand, in another world, Rexia von Alcelia, the princess of Alcelia Kingdom, is about to be assassinated, and she is rescued by Yuya, who happens to be away.\n",
            "This made Lexia fall in love with Yuya at first sight, and she was desperate to find her Yuya.\n"
          ]
        }
      ]
    },
    {
      "cell_type": "code",
      "source": [
        "#stemming : find base word\n",
        "#lemmitization : similar to stemming but the word has meanings for human\n",
        "stemmer = PorterStemmer()\n",
        "print(stemmer.stem(\"evolution\"))\n",
        "\n",
        "nltk.download('wordnet')\n",
        "lemmatizer = WordNetLemmatizer()\n",
        "print(lemmatizer.lemmatize('evolution'))"
      ],
      "metadata": {
        "id": "SfGmMClbB4pS",
        "outputId": "db603c9c-5439-42d2-ce71-9dfd27559428",
        "colab": {
          "base_uri": "https://localhost:8080/"
        }
      },
      "execution_count": 17,
      "outputs": [
        {
          "output_type": "stream",
          "name": "stdout",
          "text": [
            "evolut\n"
          ]
        },
        {
          "output_type": "stream",
          "name": "stderr",
          "text": [
            "[nltk_data] Downloading package wordnet to /root/nltk_data...\n"
          ]
        },
        {
          "output_type": "stream",
          "name": "stdout",
          "text": [
            "evolution\n"
          ]
        }
      ]
    },
    {
      "cell_type": "code",
      "source": [
        "#cleaning the text\n",
        "import re\n",
        "\n",
        "corpus = []\n",
        "\n",
        "for i in range(len(sentences)):\n",
        "    new_text = re.sub('[^a-zA-Z]',' ',sentences[i])\n",
        "    new_text = new_text.lower()\n",
        "    corpus.append(new_text)\n",
        "\n",
        "corpus"
      ],
      "metadata": {
        "id": "FyGnaDayCoTA",
        "outputId": "423771e3-de97-4a4e-a24d-cead5ea0b4ac",
        "colab": {
          "base_uri": "https://localhost:8080/"
        }
      },
      "execution_count": 18,
      "outputs": [
        {
          "output_type": "execute_result",
          "data": {
            "text/plain": [
              "['  yuuya tenjou is hated by her parents and siblings because of her ugly appearance  and is even bullied by her delinquent classmates ',\n",
              " 'he is completely isolated after the death of her only ally  her grandfather ',\n",
              " 'one day  following his grandfather s will  he helps a girl who is being entangled in delinquents at a convenience store ',\n",
              " 'that night  yuya  who was in despair about her life  accidentally discovered a  hidden door  in her house ',\n",
              " 'after opening the hidden door  she finds  mysterious items  and  doors to other worlds  that her grandfather had collected from all over the world ',\n",
              " 'at the house beyond the door  yuya acquires combat skills one after another   and when he defeats the monsters that attack him with the weapon  zesari   his poor stats level up tremendously ',\n",
              " 'perhaps because of that  yuya  who was attacked by severe pain while he was asleep  turned into a handsome man like a different person the next morning ',\n",
              " 'as a person who visited another world for the first time  yuya  who acquired cheat class abilities  subjugated monsters one after another  repeatedly leveled up  and was reborn as a perfect boy with the strongest physical ability  ',\n",
              " 'yuya tenjou was reborn as a perfect boy by opening the door to another world and acquiring cheat class abilities ',\n",
              " 'yuya s  unconscious cheat   which goes back and forth between two worlds  is only gaining momentum     ',\n",
              " 'in addition to his strongest physical ability  yuya s evolution in another world with supreme magic won t stop    after school the next day  i helped kaori hojo at a convenience store ',\n",
              " 'kaori hojo appears by car and yuya tenjo is invited to transfer to ousei gakuen  an elite school ',\n",
              " 'yuya  who was half forced to take her  met the students of ousei academy there  and after her trial admission  she decided to attend ousei academy ',\n",
              " 'on the other hand  in another world  rexia von alcelia  the princess of alcelia kingdom  is about to be assassinated  and she is rescued by yuya  who happens to be away ',\n",
              " 'this made lexia fall in love with yuya at first sight  and she was desperate to find her yuya ']"
            ]
          },
          "metadata": {},
          "execution_count": 18
        }
      ]
    },
    {
      "cell_type": "code",
      "source": [
        "##apply stemming or lemmitization\n",
        "nltk.download('stopwords')\n",
        "for i in corpus:\n",
        "    words = nltk.word_tokenize(i)\n",
        "    for word in words:\n",
        "        if word not in set(stopwords.words('english')):\n",
        "            print(stemmer.stem(word))"
      ],
      "metadata": {
        "colab": {
          "base_uri": "https://localhost:8080/"
        },
        "id": "f5hV6YmiEqNq",
        "outputId": "8ff56416-3281-4f4c-ed24-e12319b9980f"
      },
      "execution_count": 21,
      "outputs": [
        {
          "output_type": "stream",
          "name": "stderr",
          "text": [
            "[nltk_data] Downloading package stopwords to /root/nltk_data...\n",
            "[nltk_data]   Unzipping corpora/stopwords.zip.\n"
          ]
        },
        {
          "output_type": "stream",
          "name": "stdout",
          "text": [
            "yuuya\n",
            "tenjou\n",
            "hate\n",
            "parent\n",
            "sibl\n",
            "ugli\n",
            "appear\n",
            "even\n",
            "bulli\n",
            "delinqu\n",
            "classmat\n",
            "complet\n",
            "isol\n",
            "death\n",
            "alli\n",
            "grandfath\n",
            "one\n",
            "day\n",
            "follow\n",
            "grandfath\n",
            "help\n",
            "girl\n",
            "entangl\n",
            "delinqu\n",
            "conveni\n",
            "store\n",
            "night\n",
            "yuya\n",
            "despair\n",
            "life\n",
            "accident\n",
            "discov\n",
            "hidden\n",
            "door\n",
            "hous\n",
            "open\n",
            "hidden\n",
            "door\n",
            "find\n",
            "mysteri\n",
            "item\n",
            "door\n",
            "world\n",
            "grandfath\n",
            "collect\n",
            "world\n",
            "hous\n",
            "beyond\n",
            "door\n",
            "yuya\n",
            "acquir\n",
            "combat\n",
            "skill\n",
            "one\n",
            "anoth\n",
            "defeat\n",
            "monster\n",
            "attack\n",
            "weapon\n",
            "zesari\n",
            "poor\n",
            "stat\n",
            "level\n",
            "tremend\n",
            "perhap\n",
            "yuya\n",
            "attack\n",
            "sever\n",
            "pain\n",
            "asleep\n",
            "turn\n",
            "handsom\n",
            "man\n",
            "like\n",
            "differ\n",
            "person\n",
            "next\n",
            "morn\n",
            "person\n",
            "visit\n",
            "anoth\n",
            "world\n",
            "first\n",
            "time\n",
            "yuya\n",
            "acquir\n",
            "cheat\n",
            "class\n",
            "abil\n",
            "subjug\n",
            "monster\n",
            "one\n",
            "anoth\n",
            "repeatedli\n",
            "level\n",
            "reborn\n",
            "perfect\n",
            "boy\n",
            "strongest\n",
            "physic\n",
            "abil\n",
            "yuya\n",
            "tenjou\n",
            "reborn\n",
            "perfect\n",
            "boy\n",
            "open\n",
            "door\n",
            "anoth\n",
            "world\n",
            "acquir\n",
            "cheat\n",
            "class\n",
            "abil\n",
            "yuya\n",
            "unconsci\n",
            "cheat\n",
            "goe\n",
            "back\n",
            "forth\n",
            "two\n",
            "world\n",
            "gain\n",
            "momentum\n",
            "addit\n",
            "strongest\n",
            "physic\n",
            "abil\n",
            "yuya\n",
            "evolut\n",
            "anoth\n",
            "world\n",
            "suprem\n",
            "magic\n",
            "stop\n",
            "school\n",
            "next\n",
            "day\n",
            "help\n",
            "kaori\n",
            "hojo\n",
            "conveni\n",
            "store\n",
            "kaori\n",
            "hojo\n",
            "appear\n",
            "car\n",
            "yuya\n",
            "tenjo\n",
            "invit\n",
            "transfer\n",
            "ousei\n",
            "gakuen\n",
            "elit\n",
            "school\n",
            "yuya\n",
            "half\n",
            "forc\n",
            "take\n",
            "met\n",
            "student\n",
            "ousei\n",
            "academi\n",
            "trial\n",
            "admiss\n",
            "decid\n",
            "attend\n",
            "ousei\n",
            "academi\n",
            "hand\n",
            "anoth\n",
            "world\n",
            "rexia\n",
            "von\n",
            "alcelia\n",
            "princess\n",
            "alcelia\n",
            "kingdom\n",
            "assassin\n",
            "rescu\n",
            "yuya\n",
            "happen\n",
            "away\n",
            "made\n",
            "lexia\n",
            "fall\n",
            "love\n",
            "yuya\n",
            "first\n",
            "sight\n",
            "desper\n",
            "find\n",
            "yuya\n"
          ]
        }
      ]
    },
    {
      "cell_type": "code",
      "source": [
        "#bag of words\n",
        "from sklearn.feature_extraction.text import CountVectorizer\n",
        "cv = CountVectorizer()"
      ],
      "metadata": {
        "id": "gJQA1cW8E_uu"
      },
      "execution_count": 27,
      "outputs": []
    },
    {
      "cell_type": "code",
      "source": [
        "x= cv.fit_transform(corpus)\n",
        "cv.vocabulary_"
      ],
      "metadata": {
        "id": "33tRA10uGYAp",
        "outputId": "366b87e8-9a24-48e8-db5a-ef65bc810a2b",
        "colab": {
          "base_uri": "https://localhost:8080/"
        }
      },
      "execution_count": 28,
      "outputs": [
        {
          "output_type": "execute_result",
          "data": {
            "text/plain": [
              "{'yuuya': 176,\n",
              " 'tenjou': 148,\n",
              " 'is': 92,\n",
              " 'hated': 79,\n",
              " 'by': 35,\n",
              " 'her': 83,\n",
              " 'parents': 122,\n",
              " 'and': 15,\n",
              " 'siblings': 136,\n",
              " 'because': 29,\n",
              " 'of': 113,\n",
              " 'ugly': 160,\n",
              " 'appearance': 17,\n",
              " 'even': 58,\n",
              " 'bullied': 34,\n",
              " 'delinquent': 48,\n",
              " 'classmates': 39,\n",
              " 'he': 80,\n",
              " 'completely': 42,\n",
              " 'isolated': 93,\n",
              " 'after': 10,\n",
              " 'the': 150,\n",
              " 'death': 45,\n",
              " 'only': 116,\n",
              " 'ally': 13,\n",
              " 'grandfather': 73,\n",
              " 'one': 115,\n",
              " 'day': 44,\n",
              " 'following': 64,\n",
              " 'his': 86,\n",
              " 'will': 171,\n",
              " 'helps': 82,\n",
              " 'girl': 71,\n",
              " 'who': 170,\n",
              " 'being': 30,\n",
              " 'entangled': 57,\n",
              " 'in': 89,\n",
              " 'delinquents': 49,\n",
              " 'at': 22,\n",
              " 'convenience': 43,\n",
              " 'store': 141,\n",
              " 'that': 149,\n",
              " 'night': 112,\n",
              " 'yuya': 177,\n",
              " 'was': 165,\n",
              " 'despair': 50,\n",
              " 'about': 2,\n",
              " 'life': 100,\n",
              " 'accidentally': 4,\n",
              " 'discovered': 53,\n",
              " 'hidden': 84,\n",
              " 'door': 54,\n",
              " 'house': 88,\n",
              " 'opening': 117,\n",
              " 'she': 135,\n",
              " 'finds': 62,\n",
              " 'mysterious': 110,\n",
              " 'items': 94,\n",
              " 'doors': 55,\n",
              " 'to': 154,\n",
              " 'other': 118,\n",
              " 'worlds': 175,\n",
              " 'had': 74,\n",
              " 'collected': 40,\n",
              " 'from': 68,\n",
              " 'all': 12,\n",
              " 'over': 120,\n",
              " 'world': 174,\n",
              " 'beyond': 32,\n",
              " 'acquires': 6,\n",
              " 'combat': 41,\n",
              " 'skills': 138,\n",
              " 'another': 16,\n",
              " 'when': 167,\n",
              " 'defeats': 47,\n",
              " 'monsters': 108,\n",
              " 'attack': 23,\n",
              " 'him': 85,\n",
              " 'with': 172,\n",
              " 'weapon': 166,\n",
              " 'zesari': 178,\n",
              " 'poor': 127,\n",
              " 'stats': 139,\n",
              " 'level': 97,\n",
              " 'up': 162,\n",
              " 'tremendously': 156,\n",
              " 'perhaps': 124,\n",
              " 'attacked': 24,\n",
              " 'severe': 134,\n",
              " 'pain': 121,\n",
              " 'while': 169,\n",
              " 'asleep': 20,\n",
              " 'turned': 158,\n",
              " 'into': 90,\n",
              " 'handsome': 77,\n",
              " 'man': 105,\n",
              " 'like': 101,\n",
              " 'different': 52,\n",
              " 'person': 125,\n",
              " 'next': 111,\n",
              " 'morning': 109,\n",
              " 'as': 19,\n",
              " 'visited': 163,\n",
              " 'for': 65,\n",
              " 'first': 63,\n",
              " 'time': 153,\n",
              " 'acquired': 5,\n",
              " 'cheat': 37,\n",
              " 'class': 38,\n",
              " 'abilities': 0,\n",
              " 'subjugated': 144,\n",
              " 'repeatedly': 130,\n",
              " 'leveled': 98,\n",
              " 'reborn': 129,\n",
              " 'perfect': 123,\n",
              " 'boy': 33,\n",
              " 'strongest': 142,\n",
              " 'physical': 126,\n",
              " 'ability': 1,\n",
              " 'acquiring': 7,\n",
              " 'unconscious': 161,\n",
              " 'which': 168,\n",
              " 'goes': 72,\n",
              " 'back': 27,\n",
              " 'forth': 67,\n",
              " 'between': 31,\n",
              " 'two': 159,\n",
              " 'gaining': 69,\n",
              " 'momentum': 107,\n",
              " 'addition': 8,\n",
              " 'evolution': 59,\n",
              " 'supreme': 145,\n",
              " 'magic': 104,\n",
              " 'won': 173,\n",
              " 'stop': 140,\n",
              " 'school': 133,\n",
              " 'helped': 81,\n",
              " 'kaori': 95,\n",
              " 'hojo': 87,\n",
              " 'appears': 18,\n",
              " 'car': 36,\n",
              " 'tenjo': 147,\n",
              " 'invited': 91,\n",
              " 'transfer': 155,\n",
              " 'ousei': 119,\n",
              " 'gakuen': 70,\n",
              " 'an': 14,\n",
              " 'elite': 56,\n",
              " 'half': 75,\n",
              " 'forced': 66,\n",
              " 'take': 146,\n",
              " 'met': 106,\n",
              " 'students': 143,\n",
              " 'academy': 3,\n",
              " 'there': 151,\n",
              " 'trial': 157,\n",
              " 'admission': 9,\n",
              " 'decided': 46,\n",
              " 'attend': 25,\n",
              " 'on': 114,\n",
              " 'hand': 76,\n",
              " 'rexia': 132,\n",
              " 'von': 164,\n",
              " 'alcelia': 11,\n",
              " 'princess': 128,\n",
              " 'kingdom': 96,\n",
              " 'be': 28,\n",
              " 'assassinated': 21,\n",
              " 'rescued': 131,\n",
              " 'happens': 78,\n",
              " 'away': 26,\n",
              " 'this': 152,\n",
              " 'made': 103,\n",
              " 'lexia': 99,\n",
              " 'fall': 60,\n",
              " 'love': 102,\n",
              " 'sight': 137,\n",
              " 'desperate': 51,\n",
              " 'find': 61}"
            ]
          },
          "metadata": {},
          "execution_count": 28
        }
      ]
    },
    {
      "cell_type": "code",
      "source": [
        "#view the array for 0 index sentence\n",
        "corpus[0]"
      ],
      "metadata": {
        "id": "NfQnfjNIGxbg",
        "outputId": "6fab5887-5b86-4ab2-cc7c-57e30f83c541",
        "colab": {
          "base_uri": "https://localhost:8080/",
          "height": 53
        }
      },
      "execution_count": 29,
      "outputs": [
        {
          "output_type": "execute_result",
          "data": {
            "text/plain": [
              "'  yuuya tenjou is hated by her parents and siblings because of her ugly appearance  and is even bullied by her delinquent classmates '"
            ],
            "application/vnd.google.colaboratory.intrinsic+json": {
              "type": "string"
            }
          },
          "metadata": {},
          "execution_count": 29
        }
      ]
    },
    {
      "cell_type": "code",
      "source": [
        "x[0].toarray()"
      ],
      "metadata": {
        "id": "jXWg8qLyHMOg",
        "outputId": "b2c443ad-f34a-4c6b-ee84-5193a4404ab7",
        "colab": {
          "base_uri": "https://localhost:8080/"
        }
      },
      "execution_count": 30,
      "outputs": [
        {
          "output_type": "execute_result",
          "data": {
            "text/plain": [
              "array([[0, 0, 0, 0, 0, 0, 0, 0, 0, 0, 0, 0, 0, 0, 0, 2, 0, 1, 0, 0, 0, 0,\n",
              "        0, 0, 0, 0, 0, 0, 0, 1, 0, 0, 0, 0, 1, 2, 0, 0, 0, 1, 0, 0, 0, 0,\n",
              "        0, 0, 0, 0, 1, 0, 0, 0, 0, 0, 0, 0, 0, 0, 1, 0, 0, 0, 0, 0, 0, 0,\n",
              "        0, 0, 0, 0, 0, 0, 0, 0, 0, 0, 0, 0, 0, 1, 0, 0, 0, 3, 0, 0, 0, 0,\n",
              "        0, 0, 0, 0, 2, 0, 0, 0, 0, 0, 0, 0, 0, 0, 0, 0, 0, 0, 0, 0, 0, 0,\n",
              "        0, 0, 0, 1, 0, 0, 0, 0, 0, 0, 0, 0, 1, 0, 0, 0, 0, 0, 0, 0, 0, 0,\n",
              "        0, 0, 0, 0, 1, 0, 0, 0, 0, 0, 0, 0, 0, 0, 0, 0, 1, 0, 0, 0, 0, 0,\n",
              "        0, 0, 0, 0, 0, 0, 1, 0, 0, 0, 0, 0, 0, 0, 0, 0, 0, 0, 0, 0, 0, 0,\n",
              "        1, 0, 0]])"
            ]
          },
          "metadata": {},
          "execution_count": 30
        }
      ]
    },
    {
      "cell_type": "code",
      "source": [
        "#apply binary Bag of words\n",
        "cv2 = CountVectorizer(binary=True)\n",
        "x2= cv2.fit_transform(corpus)\n",
        "cv2.vocabulary_"
      ],
      "metadata": {
        "id": "3PEE06zRHhO-",
        "outputId": "7e59226f-2788-4b68-e57c-733b59a2b9e7",
        "colab": {
          "base_uri": "https://localhost:8080/"
        }
      },
      "execution_count": 33,
      "outputs": [
        {
          "data": {
            "text/plain": [
              "{'yuuya': 176,\n",
              " 'tenjou': 148,\n",
              " 'is': 92,\n",
              " 'hated': 79,\n",
              " 'by': 35,\n",
              " 'her': 83,\n",
              " 'parents': 122,\n",
              " 'and': 15,\n",
              " 'siblings': 136,\n",
              " 'because': 29,\n",
              " 'of': 113,\n",
              " 'ugly': 160,\n",
              " 'appearance': 17,\n",
              " 'even': 58,\n",
              " 'bullied': 34,\n",
              " 'delinquent': 48,\n",
              " 'classmates': 39,\n",
              " 'he': 80,\n",
              " 'completely': 42,\n",
              " 'isolated': 93,\n",
              " 'after': 10,\n",
              " 'the': 150,\n",
              " 'death': 45,\n",
              " 'only': 116,\n",
              " 'ally': 13,\n",
              " 'grandfather': 73,\n",
              " 'one': 115,\n",
              " 'day': 44,\n",
              " 'following': 64,\n",
              " 'his': 86,\n",
              " 'will': 171,\n",
              " 'helps': 82,\n",
              " 'girl': 71,\n",
              " 'who': 170,\n",
              " 'being': 30,\n",
              " 'entangled': 57,\n",
              " 'in': 89,\n",
              " 'delinquents': 49,\n",
              " 'at': 22,\n",
              " 'convenience': 43,\n",
              " 'store': 141,\n",
              " 'that': 149,\n",
              " 'night': 112,\n",
              " 'yuya': 177,\n",
              " 'was': 165,\n",
              " 'despair': 50,\n",
              " 'about': 2,\n",
              " 'life': 100,\n",
              " 'accidentally': 4,\n",
              " 'discovered': 53,\n",
              " 'hidden': 84,\n",
              " 'door': 54,\n",
              " 'house': 88,\n",
              " 'opening': 117,\n",
              " 'she': 135,\n",
              " 'finds': 62,\n",
              " 'mysterious': 110,\n",
              " 'items': 94,\n",
              " 'doors': 55,\n",
              " 'to': 154,\n",
              " 'other': 118,\n",
              " 'worlds': 175,\n",
              " 'had': 74,\n",
              " 'collected': 40,\n",
              " 'from': 68,\n",
              " 'all': 12,\n",
              " 'over': 120,\n",
              " 'world': 174,\n",
              " 'beyond': 32,\n",
              " 'acquires': 6,\n",
              " 'combat': 41,\n",
              " 'skills': 138,\n",
              " 'another': 16,\n",
              " 'when': 167,\n",
              " 'defeats': 47,\n",
              " 'monsters': 108,\n",
              " 'attack': 23,\n",
              " 'him': 85,\n",
              " 'with': 172,\n",
              " 'weapon': 166,\n",
              " 'zesari': 178,\n",
              " 'poor': 127,\n",
              " 'stats': 139,\n",
              " 'level': 97,\n",
              " 'up': 162,\n",
              " 'tremendously': 156,\n",
              " 'perhaps': 124,\n",
              " 'attacked': 24,\n",
              " 'severe': 134,\n",
              " 'pain': 121,\n",
              " 'while': 169,\n",
              " 'asleep': 20,\n",
              " 'turned': 158,\n",
              " 'into': 90,\n",
              " 'handsome': 77,\n",
              " 'man': 105,\n",
              " 'like': 101,\n",
              " 'different': 52,\n",
              " 'person': 125,\n",
              " 'next': 111,\n",
              " 'morning': 109,\n",
              " 'as': 19,\n",
              " 'visited': 163,\n",
              " 'for': 65,\n",
              " 'first': 63,\n",
              " 'time': 153,\n",
              " 'acquired': 5,\n",
              " 'cheat': 37,\n",
              " 'class': 38,\n",
              " 'abilities': 0,\n",
              " 'subjugated': 144,\n",
              " 'repeatedly': 130,\n",
              " 'leveled': 98,\n",
              " 'reborn': 129,\n",
              " 'perfect': 123,\n",
              " 'boy': 33,\n",
              " 'strongest': 142,\n",
              " 'physical': 126,\n",
              " 'ability': 1,\n",
              " 'acquiring': 7,\n",
              " 'unconscious': 161,\n",
              " 'which': 168,\n",
              " 'goes': 72,\n",
              " 'back': 27,\n",
              " 'forth': 67,\n",
              " 'between': 31,\n",
              " 'two': 159,\n",
              " 'gaining': 69,\n",
              " 'momentum': 107,\n",
              " 'addition': 8,\n",
              " 'evolution': 59,\n",
              " 'supreme': 145,\n",
              " 'magic': 104,\n",
              " 'won': 173,\n",
              " 'stop': 140,\n",
              " 'school': 133,\n",
              " 'helped': 81,\n",
              " 'kaori': 95,\n",
              " 'hojo': 87,\n",
              " 'appears': 18,\n",
              " 'car': 36,\n",
              " 'tenjo': 147,\n",
              " 'invited': 91,\n",
              " 'transfer': 155,\n",
              " 'ousei': 119,\n",
              " 'gakuen': 70,\n",
              " 'an': 14,\n",
              " 'elite': 56,\n",
              " 'half': 75,\n",
              " 'forced': 66,\n",
              " 'take': 146,\n",
              " 'met': 106,\n",
              " 'students': 143,\n",
              " 'academy': 3,\n",
              " 'there': 151,\n",
              " 'trial': 157,\n",
              " 'admission': 9,\n",
              " 'decided': 46,\n",
              " 'attend': 25,\n",
              " 'on': 114,\n",
              " 'hand': 76,\n",
              " 'rexia': 132,\n",
              " 'von': 164,\n",
              " 'alcelia': 11,\n",
              " 'princess': 128,\n",
              " 'kingdom': 96,\n",
              " 'be': 28,\n",
              " 'assassinated': 21,\n",
              " 'rescued': 131,\n",
              " 'happens': 78,\n",
              " 'away': 26,\n",
              " 'this': 152,\n",
              " 'made': 103,\n",
              " 'lexia': 99,\n",
              " 'fall': 60,\n",
              " 'love': 102,\n",
              " 'sight': 137,\n",
              " 'desperate': 51,\n",
              " 'find': 61}"
            ]
          },
          "execution_count": 33,
          "metadata": {},
          "output_type": "execute_result"
        }
      ]
    },
    {
      "cell_type": "code",
      "source": [
        "x2[0].toarray()"
      ],
      "metadata": {
        "id": "Ldxo1uS-Ic2_",
        "outputId": "25a6fb70-0dc9-4392-f96a-fd33aa8b3d3f",
        "colab": {
          "base_uri": "https://localhost:8080/"
        }
      },
      "execution_count": 34,
      "outputs": [
        {
          "output_type": "execute_result",
          "data": {
            "text/plain": [
              "array([[0, 0, 0, 0, 0, 0, 0, 0, 0, 0, 0, 0, 0, 0, 0, 1, 0, 1, 0, 0, 0, 0,\n",
              "        0, 0, 0, 0, 0, 0, 0, 1, 0, 0, 0, 0, 1, 1, 0, 0, 0, 1, 0, 0, 0, 0,\n",
              "        0, 0, 0, 0, 1, 0, 0, 0, 0, 0, 0, 0, 0, 0, 1, 0, 0, 0, 0, 0, 0, 0,\n",
              "        0, 0, 0, 0, 0, 0, 0, 0, 0, 0, 0, 0, 0, 1, 0, 0, 0, 1, 0, 0, 0, 0,\n",
              "        0, 0, 0, 0, 1, 0, 0, 0, 0, 0, 0, 0, 0, 0, 0, 0, 0, 0, 0, 0, 0, 0,\n",
              "        0, 0, 0, 1, 0, 0, 0, 0, 0, 0, 0, 0, 1, 0, 0, 0, 0, 0, 0, 0, 0, 0,\n",
              "        0, 0, 0, 0, 1, 0, 0, 0, 0, 0, 0, 0, 0, 0, 0, 0, 1, 0, 0, 0, 0, 0,\n",
              "        0, 0, 0, 0, 0, 0, 1, 0, 0, 0, 0, 0, 0, 0, 0, 0, 0, 0, 0, 0, 0, 0,\n",
              "        1, 0, 0]])"
            ]
          },
          "metadata": {},
          "execution_count": 34
        }
      ]
    },
    {
      "cell_type": "code",
      "source": [
        "#applyign lemmatization on the corpus and stopwords\n",
        "lemmitize_corpus = []\n",
        "for i in range(len(sentences)):\n",
        "    new_text = re.sub('[^a-zA-Z]',' ',sentences[i])\n",
        "    new_text = new_text.lower()\n",
        "    new_text = new_text.split()\n",
        "    new_text = [lemmatizer.lemmatize(word) for word in new_text if not word in set(stopwords.words('english'))]\n",
        "    new_text = ' '.join(new_text)\n",
        "    lemmitize_corpus.append(new_text)\n",
        "\n",
        "print(lemmitize_corpus)"
      ],
      "metadata": {
        "id": "Q6WaPZ1FICug",
        "outputId": "c2b1a478-79fb-494c-8447-d3f557094bad",
        "colab": {
          "base_uri": "https://localhost:8080/"
        }
      },
      "execution_count": 35,
      "outputs": [
        {
          "output_type": "stream",
          "name": "stdout",
          "text": [
            "['yuuya tenjou hated parent sibling ugly appearance even bullied delinquent classmate', 'completely isolated death ally grandfather', 'one day following grandfather help girl entangled delinquent convenience store', 'night yuya despair life accidentally discovered hidden door house', 'opening hidden door find mysterious item door world grandfather collected world', 'house beyond door yuya acquires combat skill one another defeat monster attack weapon zesari poor stats level tremendously', 'perhaps yuya attacked severe pain asleep turned handsome man like different person next morning', 'person visited another world first time yuya acquired cheat class ability subjugated monster one another repeatedly leveled reborn perfect boy strongest physical ability', 'yuya tenjou reborn perfect boy opening door another world acquiring cheat class ability', 'yuya unconscious cheat go back forth two world gaining momentum', 'addition strongest physical ability yuya evolution another world supreme magic stop school next day helped kaori hojo convenience store', 'kaori hojo appears car yuya tenjo invited transfer ousei gakuen elite school', 'yuya half forced take met student ousei academy trial admission decided attend ousei academy', 'hand another world rexia von alcelia princess alcelia kingdom assassinated rescued yuya happens away', 'made lexia fall love yuya first sight desperate find yuya']\n"
          ]
        }
      ]
    },
    {
      "cell_type": "code",
      "source": [
        "print(lemmitize_corpus[0])\n",
        "print(corpus[0])"
      ],
      "metadata": {
        "id": "7F2gFPKnJhjm",
        "outputId": "addc1e98-6299-497a-f948-9dcf72758a20",
        "colab": {
          "base_uri": "https://localhost:8080/"
        }
      },
      "execution_count": 36,
      "outputs": [
        {
          "output_type": "stream",
          "name": "stdout",
          "text": [
            "yuuya tenjou hated parent sibling ugly appearance even bullied delinquent classmate\n",
            "  yuuya tenjou is hated by her parents and siblings because of her ugly appearance  and is even bullied by her delinquent classmates \n"
          ]
        }
      ]
    },
    {
      "cell_type": "code",
      "source": [],
      "metadata": {
        "id": "Tr3A-qnOJ2oC"
      },
      "execution_count": null,
      "outputs": []
    }
  ]
}