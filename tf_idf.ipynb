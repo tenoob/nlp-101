{
  "nbformat": 4,
  "nbformat_minor": 0,
  "metadata": {
    "colab": {
      "provenance": [],
      "authorship_tag": "ABX9TyM2LSXVYQMyyy0PCtsD6Nh9",
      "include_colab_link": true
    },
    "kernelspec": {
      "name": "python3",
      "display_name": "Python 3"
    },
    "language_info": {
      "name": "python"
    }
  },
  "cells": [
    {
      "cell_type": "markdown",
      "metadata": {
        "id": "view-in-github",
        "colab_type": "text"
      },
      "source": [
        "<a href=\"https://colab.research.google.com/github/tenoob/nlp-101/blob/main/tf_idf.ipynb\" target=\"_parent\"><img src=\"https://colab.research.google.com/assets/colab-badge.svg\" alt=\"Open In Colab\"/></a>"
      ]
    },
    {
      "cell_type": "code",
      "execution_count": null,
      "metadata": {
        "id": "_4HSHETx2m3k",
        "colab": {
          "base_uri": "https://localhost:8080/"
        },
        "outputId": "6e3f2d86-5b7d-4eec-8981-31ae8832eb51"
      },
      "outputs": [
        {
          "output_type": "stream",
          "name": "stdout",
          "text": [
            "Requirement already satisfied: nltk in /usr/local/lib/python3.10/dist-packages (3.8.1)\n",
            "Requirement already satisfied: click in /usr/local/lib/python3.10/dist-packages (from nltk) (8.1.7)\n",
            "Requirement already satisfied: joblib in /usr/local/lib/python3.10/dist-packages (from nltk) (1.4.2)\n",
            "Requirement already satisfied: regex>=2021.8.3 in /usr/local/lib/python3.10/dist-packages (from nltk) (2023.12.25)\n",
            "Requirement already satisfied: tqdm in /usr/local/lib/python3.10/dist-packages (from nltk) (4.66.4)\n"
          ]
        }
      ],
      "source": [
        "!pip install nltk"
      ]
    },
    {
      "cell_type": "code",
      "source": [
        "paragraph = \"\"\"\n",
        "    Isekai de Cheat Skill wo Te ni Shita Ore wa, Genjitsu Sekai wo mo Musou Suru: Level Up wa Jinsei wo Kaeta (異世界でチート能力を手にした俺は、現実世界をも無双する ～レベルアップは人生を変えた～, I Got a Cheat Ability in a Different World, and Became Extraordinary Even in the Real World. / I Got a Cheat Skill in Another World and Became Unrivaled in the Real World, Too)is a Japanese light novel series written by Miku and illustrated by Rein Kuwashima. It began as a web novel that started in the Kakuyomu website in March 2017. It was later acquired by Fujimi Shobo, who have published the series since December 2018 under their Fujimi Fantasia Bunko imprint.\n",
        "\n",
        "A manga adaptation illustrated by Kazuomi Minatogawa has been serialized in ASCII Media Works' Dengeki PlayStation Comic Web website since December 2019, with its chapters collected into four tankōbon volumes as of December 2022. An anime television series adaptation produced by TMS Entertainment and animated by Millepensee premiered in April to June 2023. A new anime project has been announced.\n",
        "\"\"\""
      ],
      "metadata": {
        "id": "VGzZILtN_XI1"
      },
      "execution_count": 6,
      "outputs": []
    },
    {
      "cell_type": "code",
      "source": [
        "import nltk\n"
      ],
      "metadata": {
        "id": "yywPLfDwm6sI"
      },
      "execution_count": 5,
      "outputs": []
    },
    {
      "cell_type": "markdown",
      "source": [
        "ngrams are present in TfifdVectorizer"
      ],
      "metadata": {
        "id": "0wQ-8OpCpAy7"
      }
    },
    {
      "cell_type": "code",
      "source": [
        "#TF-IDF\n",
        "\n",
        "from sklearn.feature_extraction.text import TfidfVectorizer"
      ],
      "metadata": {
        "id": "4OpO-xTj_4yY"
      },
      "execution_count": 2,
      "outputs": []
    },
    {
      "cell_type": "code",
      "source": [
        "#tokenization -> conver paragraphs to senten to words\n",
        "nltk.download('punkt')\n",
        "\n",
        "#convert paragraphs to sentences\n",
        "sentences = nltk.sent_tokenize(paragraph)\n",
        "print(sentences)"
      ],
      "metadata": {
        "colab": {
          "base_uri": "https://localhost:8080/"
        },
        "id": "oW3BC_7lpsFG",
        "outputId": "7fdc609e-fa6f-4bc6-b2f9-5475ec17025b"
      },
      "execution_count": 7,
      "outputs": [
        {
          "output_type": "stream",
          "name": "stderr",
          "text": [
            "[nltk_data] Downloading package punkt to /root/nltk_data...\n",
            "[nltk_data]   Unzipping tokenizers/punkt.zip.\n"
          ]
        },
        {
          "output_type": "stream",
          "name": "stdout",
          "text": [
            "['\\n    Isekai de Cheat Skill wo Te ni Shita Ore wa, Genjitsu Sekai wo mo Musou Suru: Level Up wa Jinsei wo Kaeta (異世界でチート能力を手にした俺は、現実世界をも無双する ～レベルアップは人生を変えた～, I Got a Cheat Ability in a Different World, and Became Extraordinary Even in the Real World.', '/ I Got a Cheat Skill in Another World and Became Unrivaled in the Real World, Too)is a Japanese light novel series written by Miku and illustrated by Rein Kuwashima.', 'It began as a web novel that started in the Kakuyomu website in March 2017.', 'It was later acquired by Fujimi Shobo, who have published the series since December 2018 under their Fujimi Fantasia Bunko imprint.', \"A manga adaptation illustrated by Kazuomi Minatogawa has been serialized in ASCII Media Works' Dengeki PlayStation Comic Web website since December 2019, with its chapters collected into four tankōbon volumes as of December 2022.\", 'An anime television series adaptation produced by TMS Entertainment and animated by Millepensee premiered in April to June 2023.', 'A new anime project has been announced.']\n"
          ]
        }
      ]
    },
    {
      "cell_type": "code",
      "source": [
        "#cleaning the text\n",
        "import re\n",
        "\n",
        "corpus = []\n",
        "\n",
        "for i in range(len(sentences)):\n",
        "    new_text = re.sub('[^a-zA-Z]',' ',sentences[i])\n",
        "    new_text = new_text.lower()\n",
        "    corpus.append(new_text)\n",
        "\n",
        "corpus"
      ],
      "metadata": {
        "colab": {
          "base_uri": "https://localhost:8080/"
        },
        "id": "-BIXd95Hpjnq",
        "outputId": "4dd976fb-dd2f-4390-96ea-3c08080559f5"
      },
      "execution_count": 8,
      "outputs": [
        {
          "output_type": "execute_result",
          "data": {
            "text/plain": [
              "['     isekai de cheat skill wo te ni shita ore wa  genjitsu sekai wo mo musou suru  level up wa jinsei wo kaeta                                               i got a cheat ability in a different world  and became extraordinary even in the real world ',\n",
              " '  i got a cheat skill in another world and became unrivaled in the real world  too is a japanese light novel series written by miku and illustrated by rein kuwashima ',\n",
              " 'it began as a web novel that started in the kakuyomu website in march      ',\n",
              " 'it was later acquired by fujimi shobo  who have published the series since december      under their fujimi fantasia bunko imprint ',\n",
              " 'a manga adaptation illustrated by kazuomi minatogawa has been serialized in ascii media works  dengeki playstation comic web website since december       with its chapters collected into four tank bon volumes as of december      ',\n",
              " 'an anime television series adaptation produced by tms entertainment and animated by millepensee premiered in april to june      ',\n",
              " 'a new anime project has been announced ']"
            ]
          },
          "metadata": {},
          "execution_count": 8
        }
      ]
    },
    {
      "cell_type": "code",
      "source": [
        "cv = TfidfVectorizer()\n",
        "x1 = cv.fit_transform(corpus)"
      ],
      "metadata": {
        "id": "Pc6_W-bKo3M0"
      },
      "execution_count": 9,
      "outputs": []
    },
    {
      "cell_type": "code",
      "source": [
        "corpus[0]"
      ],
      "metadata": {
        "colab": {
          "base_uri": "https://localhost:8080/",
          "height": 70
        },
        "id": "l5gDTsewpTpD",
        "outputId": "51936a2a-8f24-4ea3-b0d8-24afaf1c6d43"
      },
      "execution_count": 10,
      "outputs": [
        {
          "output_type": "execute_result",
          "data": {
            "text/plain": [
              "'     isekai de cheat skill wo te ni shita ore wa  genjitsu sekai wo mo musou suru  level up wa jinsei wo kaeta                                               i got a cheat ability in a different world  and became extraordinary even in the real world '"
            ],
            "application/vnd.google.colaboratory.intrinsic+json": {
              "type": "string"
            }
          },
          "metadata": {},
          "execution_count": 10
        }
      ]
    },
    {
      "cell_type": "code",
      "source": [
        "x1[0].toarray()"
      ],
      "metadata": {
        "colab": {
          "base_uri": "https://localhost:8080/"
        },
        "id": "zG9E3AueqImB",
        "outputId": "3391cb93-9f52-4ee2-815c-006245b4ce7a"
      },
      "execution_count": 11,
      "outputs": [
        {
          "output_type": "execute_result",
          "data": {
            "text/plain": [
              "array([[0.15372583, 0.        , 0.        , 0.        , 0.10907307,\n",
              "        0.        , 0.        , 0.        , 0.        , 0.        ,\n",
              "        0.        , 0.        , 0.12760564, 0.        , 0.        ,\n",
              "        0.        , 0.        , 0.        , 0.        , 0.25521129,\n",
              "        0.        , 0.        , 0.15372583, 0.        , 0.        ,\n",
              "        0.15372583, 0.        , 0.15372583, 0.15372583, 0.        ,\n",
              "        0.        , 0.        , 0.15372583, 0.12760564, 0.        ,\n",
              "        0.        , 0.        , 0.        , 0.16590577, 0.        ,\n",
              "        0.        , 0.15372583, 0.        , 0.        , 0.        ,\n",
              "        0.15372583, 0.        , 0.15372583, 0.        , 0.        ,\n",
              "        0.        , 0.        , 0.15372583, 0.        , 0.        ,\n",
              "        0.        , 0.        , 0.        , 0.        , 0.        ,\n",
              "        0.15372583, 0.15372583, 0.        , 0.15372583, 0.        ,\n",
              "        0.        , 0.15372583, 0.        , 0.        , 0.        ,\n",
              "        0.        , 0.        , 0.12760564, 0.        , 0.15372583,\n",
              "        0.        , 0.        , 0.15372583, 0.        , 0.        ,\n",
              "        0.12760564, 0.        , 0.15372583, 0.        , 0.15372583,\n",
              "        0.        , 0.        , 0.0946981 , 0.        , 0.        ,\n",
              "        0.        , 0.        , 0.        , 0.        , 0.15372583,\n",
              "        0.        , 0.30745167, 0.        , 0.        , 0.        ,\n",
              "        0.        , 0.        , 0.4611775 , 0.        , 0.25521129,\n",
              "        0.        ]])"
            ]
          },
          "metadata": {},
          "execution_count": 11
        }
      ]
    },
    {
      "cell_type": "code",
      "source": [
        "#doing bi-gram and tri-gram\n",
        "cv2 = TfidfVectorizer(ngram_range=(2,3))\n",
        "x2 = cv2.fit_transform(corpus)\n",
        "x2[0].toarray()\n",
        "cv2.vocabulary_"
      ],
      "metadata": {
        "colab": {
          "base_uri": "https://localhost:8080/"
        },
        "id": "4u_eFYvzqLVN",
        "outputId": "9033563e-34bb-44a7-cc72-f9c97b528775"
      },
      "execution_count": 13,
      "outputs": [
        {
          "output_type": "execute_result",
          "data": {
            "text/plain": [
              "{'isekai de': 121,\n",
              " 'de cheat': 68,\n",
              " 'cheat skill': 61,\n",
              " 'skill wo': 202,\n",
              " 'wo te': 259,\n",
              " 'te ni': 210,\n",
              " 'ni shita': 161,\n",
              " 'shita ore': 193,\n",
              " 'ore wa': 168,\n",
              " 'wa genjitsu': 237,\n",
              " 'genjitsu sekai': 92,\n",
              " 'sekai wo': 183,\n",
              " 'wo mo': 257,\n",
              " 'mo musou': 155,\n",
              " 'musou suru': 157,\n",
              " 'suru level': 206,\n",
              " 'level up': 141,\n",
              " 'up wa': 233,\n",
              " 'wa jinsei': 239,\n",
              " 'jinsei wo': 131,\n",
              " 'wo kaeta': 255,\n",
              " 'kaeta got': 133,\n",
              " 'got cheat': 94,\n",
              " 'cheat ability': 59,\n",
              " 'ability in': 0,\n",
              " 'in different': 111,\n",
              " 'different world': 76,\n",
              " 'world and': 263,\n",
              " 'and became': 12,\n",
              " 'became extraordinary': 33,\n",
              " 'extraordinary even': 82,\n",
              " 'even in': 80,\n",
              " 'in the': 114,\n",
              " 'the real': 218,\n",
              " 'real world': 180,\n",
              " 'isekai de cheat': 122,\n",
              " 'de cheat skill': 69,\n",
              " 'cheat skill wo': 63,\n",
              " 'skill wo te': 203,\n",
              " 'wo te ni': 260,\n",
              " 'te ni shita': 211,\n",
              " 'ni shita ore': 162,\n",
              " 'shita ore wa': 194,\n",
              " 'ore wa genjitsu': 169,\n",
              " 'wa genjitsu sekai': 238,\n",
              " 'genjitsu sekai wo': 93,\n",
              " 'sekai wo mo': 184,\n",
              " 'wo mo musou': 258,\n",
              " 'mo musou suru': 156,\n",
              " 'musou suru level': 158,\n",
              " 'suru level up': 207,\n",
              " 'level up wa': 142,\n",
              " 'up wa jinsei': 234,\n",
              " 'wa jinsei wo': 240,\n",
              " 'jinsei wo kaeta': 132,\n",
              " 'wo kaeta got': 256,\n",
              " 'kaeta got cheat': 134,\n",
              " 'got cheat ability': 95,\n",
              " 'cheat ability in': 60,\n",
              " 'ability in different': 1,\n",
              " 'in different world': 112,\n",
              " 'different world and': 77,\n",
              " 'world and became': 264,\n",
              " 'and became extraordinary': 13,\n",
              " 'became extraordinary even': 34,\n",
              " 'extraordinary even in': 83,\n",
              " 'even in the': 81,\n",
              " 'in the real': 116,\n",
              " 'the real world': 219,\n",
              " 'skill in': 200,\n",
              " 'in another': 105,\n",
              " 'another world': 23,\n",
              " 'became unrivaled': 35,\n",
              " 'unrivaled in': 231,\n",
              " 'world too': 265,\n",
              " 'too is': 227,\n",
              " 'is japanese': 119,\n",
              " 'japanese light': 129,\n",
              " 'light novel': 143,\n",
              " 'novel series': 163,\n",
              " 'series written': 191,\n",
              " 'written by': 267,\n",
              " 'by miku': 49,\n",
              " 'miku and': 149,\n",
              " 'and illustrated': 15,\n",
              " 'illustrated by': 102,\n",
              " 'by rein': 53,\n",
              " 'rein kuwashima': 182,\n",
              " 'got cheat skill': 96,\n",
              " 'cheat skill in': 62,\n",
              " 'skill in another': 201,\n",
              " 'in another world': 106,\n",
              " 'another world and': 24,\n",
              " 'and became unrivaled': 14,\n",
              " 'became unrivaled in': 36,\n",
              " 'unrivaled in the': 232,\n",
              " 'real world too': 181,\n",
              " 'world too is': 266,\n",
              " 'too is japanese': 228,\n",
              " 'is japanese light': 120,\n",
              " 'japanese light novel': 130,\n",
              " 'light novel series': 144,\n",
              " 'novel series written': 164,\n",
              " 'series written by': 192,\n",
              " 'written by miku': 268,\n",
              " 'by miku and': 50,\n",
              " 'miku and illustrated': 150,\n",
              " 'and illustrated by': 16,\n",
              " 'illustrated by rein': 104,\n",
              " 'by rein kuwashima': 54,\n",
              " 'it began': 123,\n",
              " 'began as': 40,\n",
              " 'as web': 29,\n",
              " 'web novel': 243,\n",
              " 'novel that': 165,\n",
              " 'that started': 214,\n",
              " 'started in': 204,\n",
              " 'the kakuyomu': 216,\n",
              " 'kakuyomu website': 135,\n",
              " 'website in': 247,\n",
              " 'in march': 113,\n",
              " 'it began as': 124,\n",
              " 'began as web': 41,\n",
              " 'as web novel': 30,\n",
              " 'web novel that': 244,\n",
              " 'novel that started': 166,\n",
              " 'that started in': 215,\n",
              " 'started in the': 205,\n",
              " 'in the kakuyomu': 115,\n",
              " 'the kakuyomu website': 217,\n",
              " 'kakuyomu website in': 136,\n",
              " 'website in march': 248,\n",
              " 'it was': 125,\n",
              " 'was later': 241,\n",
              " 'later acquired': 139,\n",
              " 'acquired by': 2,\n",
              " 'by fujimi': 45,\n",
              " 'fujimi shobo': 90,\n",
              " 'shobo who': 195,\n",
              " 'who have': 251,\n",
              " 'have published': 100,\n",
              " 'published the': 178,\n",
              " 'the series': 220,\n",
              " 'series since': 189,\n",
              " 'since december': 197,\n",
              " 'december under': 70,\n",
              " 'under their': 229,\n",
              " 'their fujimi': 222,\n",
              " 'fujimi fantasia': 88,\n",
              " 'fantasia bunko': 84,\n",
              " 'bunko imprint': 44,\n",
              " 'it was later': 126,\n",
              " 'was later acquired': 242,\n",
              " 'later acquired by': 140,\n",
              " 'acquired by fujimi': 3,\n",
              " 'by fujimi shobo': 46,\n",
              " 'fujimi shobo who': 91,\n",
              " 'shobo who have': 196,\n",
              " 'who have published': 252,\n",
              " 'have published the': 101,\n",
              " 'published the series': 179,\n",
              " 'the series since': 221,\n",
              " 'series since december': 190,\n",
              " 'since december under': 198,\n",
              " 'december under their': 71,\n",
              " 'under their fujimi': 230,\n",
              " 'their fujimi fantasia': 223,\n",
              " 'fujimi fantasia bunko': 89,\n",
              " 'fantasia bunko imprint': 85,\n",
              " 'manga adaptation': 145,\n",
              " 'adaptation illustrated': 4,\n",
              " 'by kazuomi': 47,\n",
              " 'kazuomi minatogawa': 137,\n",
              " 'minatogawa has': 153,\n",
              " 'has been': 97,\n",
              " 'been serialized': 38,\n",
              " 'serialized in': 185,\n",
              " 'in ascii': 109,\n",
              " 'ascii media': 31,\n",
              " 'media works': 147,\n",
              " 'works dengeki': 261,\n",
              " 'dengeki playstation': 74,\n",
              " 'playstation comic': 170,\n",
              " 'comic web': 66,\n",
              " 'web website': 245,\n",
              " 'website since': 249,\n",
              " 'december with': 72,\n",
              " 'with its': 253,\n",
              " 'its chapters': 127,\n",
              " 'chapters collected': 57,\n",
              " 'collected into': 64,\n",
              " 'into four': 117,\n",
              " 'four tank': 86,\n",
              " 'tank bon': 208,\n",
              " 'bon volumes': 42,\n",
              " 'volumes as': 235,\n",
              " 'as of': 27,\n",
              " 'of december': 167,\n",
              " 'manga adaptation illustrated': 146,\n",
              " 'adaptation illustrated by': 5,\n",
              " 'illustrated by kazuomi': 103,\n",
              " 'by kazuomi minatogawa': 48,\n",
              " 'kazuomi minatogawa has': 138,\n",
              " 'minatogawa has been': 154,\n",
              " 'has been serialized': 99,\n",
              " 'been serialized in': 39,\n",
              " 'serialized in ascii': 186,\n",
              " 'in ascii media': 110,\n",
              " 'ascii media works': 32,\n",
              " 'media works dengeki': 148,\n",
              " 'works dengeki playstation': 262,\n",
              " 'dengeki playstation comic': 75,\n",
              " 'playstation comic web': 171,\n",
              " 'comic web website': 67,\n",
              " 'web website since': 246,\n",
              " 'website since december': 250,\n",
              " 'since december with': 199,\n",
              " 'december with its': 73,\n",
              " 'with its chapters': 254,\n",
              " 'its chapters collected': 128,\n",
              " 'chapters collected into': 58,\n",
              " 'collected into four': 65,\n",
              " 'into four tank': 118,\n",
              " 'four tank bon': 87,\n",
              " 'tank bon volumes': 209,\n",
              " 'bon volumes as': 43,\n",
              " 'volumes as of': 236,\n",
              " 'as of december': 28,\n",
              " 'an anime': 8,\n",
              " 'anime television': 21,\n",
              " 'television series': 212,\n",
              " 'series adaptation': 187,\n",
              " 'adaptation produced': 6,\n",
              " 'produced by': 174,\n",
              " 'by tms': 55,\n",
              " 'tms entertainment': 224,\n",
              " 'entertainment and': 78,\n",
              " 'and animated': 10,\n",
              " 'animated by': 17,\n",
              " 'by millepensee': 51,\n",
              " 'millepensee premiered': 151,\n",
              " 'premiered in': 172,\n",
              " 'in april': 107,\n",
              " 'april to': 25,\n",
              " 'to june': 226,\n",
              " 'an anime television': 9,\n",
              " 'anime television series': 22,\n",
              " 'television series adaptation': 213,\n",
              " 'series adaptation produced': 188,\n",
              " 'adaptation produced by': 7,\n",
              " 'produced by tms': 175,\n",
              " 'by tms entertainment': 56,\n",
              " 'tms entertainment and': 225,\n",
              " 'entertainment and animated': 79,\n",
              " 'and animated by': 11,\n",
              " 'animated by millepensee': 18,\n",
              " 'by millepensee premiered': 52,\n",
              " 'millepensee premiered in': 152,\n",
              " 'premiered in april': 173,\n",
              " 'in april to': 108,\n",
              " 'april to june': 26,\n",
              " 'new anime': 159,\n",
              " 'anime project': 19,\n",
              " 'project has': 176,\n",
              " 'been announced': 37,\n",
              " 'new anime project': 160,\n",
              " 'anime project has': 20,\n",
              " 'project has been': 177,\n",
              " 'has been announced': 98}"
            ]
          },
          "metadata": {},
          "execution_count": 13
        }
      ]
    },
    {
      "cell_type": "code",
      "source": [],
      "metadata": {
        "id": "xxjXUlIMqeHj"
      },
      "execution_count": null,
      "outputs": []
    }
  ]
}